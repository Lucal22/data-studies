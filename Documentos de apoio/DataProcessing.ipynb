{
 "cells": [
  {
   "cell_type": "code",
   "execution_count": null,
   "metadata": {},
   "outputs": [],
   "source": [
    "# This is a list with commands for Data processing:\n",
    "#Libs\n",
    "import pandas as pd\n",
    "import seaborn as srn\n",
    "import statistics  as sts"
   ]
  },
  {
   "cell_type": "code",
   "execution_count": null,
   "metadata": {},
   "outputs": [],
   "source": [
    "#Import data\n",
    "data = pd.read_csv(\"data.csv\", sep=\";\")\n",
    "#view\n",
    "data.head()"
   ]
  },
  {
   "cell_type": "code",
   "execution_count": null,
   "metadata": {},
   "outputs": [],
   "source": [
    "#Data size (Lines and columns)\n",
    "data.shape"
   ]
  },
  {
   "cell_type": "code",
   "execution_count": null,
   "metadata": {},
   "outputs": [],
   "source": [
    "#Name the columns of your data file\n",
    "data.columns = [\"Id\",\"Score\",\"Estado\"]"
   ]
  },
  {
   "cell_type": "code",
   "execution_count": null,
   "metadata": {},
   "outputs": [],
   "source": [
    "#Show the data with the frequency that it appears in the document.\n",
    "group = data.groupby(['Column']).size()\n",
    "group"
   ]
  },
  {
   "cell_type": "code",
   "execution_count": null,
   "metadata": {},
   "outputs": [],
   "source": [
    "#Plot a graphic bar for the data selected.\n",
    "group.plot.bar(color = 'gray')"
   ]
  },
  {
   "cell_type": "code",
   "execution_count": null,
   "metadata": {},
   "outputs": [],
   "source": [
    "#Shows informations like mean, max value, min value and some % values of a numeric column.\n",
    "\n",
    "data['Number'].describe()"
   ]
  },
  {
   "cell_type": "code",
   "execution_count": null,
   "metadata": {},
   "outputs": [],
   "source": [
    "#Plot a graphic for the data selected.\n",
    "srn.boxplot(data['Number']).set_title('Number')"
   ]
  },
  {
   "cell_type": "code",
   "execution_count": null,
   "metadata": {},
   "outputs": [],
   "source": [
    "#Plot a graphic for the data selected (Command deprecated).\n",
    "srn.distplot(data['Number']).set_title('Number')"
   ]
  },
  {
   "cell_type": "code",
   "execution_count": null,
   "metadata": {},
   "outputs": [],
   "source": [
    "#Count the number of NAN that the document or column has.\n",
    "data['Number'].isnull().sum()"
   ]
  },
  {
   "cell_type": "code",
   "execution_count": null,
   "metadata": {},
   "outputs": [],
   "source": [
    "#It calculates the median of a number column.\n",
    "median = sts.median(data['Number'])\n",
    "median"
   ]
  },
  {
   "cell_type": "code",
   "execution_count": null,
   "metadata": {},
   "outputs": [],
   "source": [
    "#It changes the NAN elements for a different value, in this case it changes to the median.\n",
    "data['Number'].fillna(median, inplace=True)"
   ]
  },
  {
   "cell_type": "code",
   "execution_count": null,
   "metadata": {},
   "outputs": [],
   "source": [
    "#It locates specifics itens in the documment or in a column.\n",
    "data.loc[data['Fruits'] ==  'A', 'App'] "
   ]
  },
  {
   "cell_type": "code",
   "execution_count": null,
   "metadata": {},
   "outputs": [],
   "source": [
    "#It changes the entire line that has one of the values specified on data.loc to 'Apple'\n",
    "data.loc[data['Fruits'] ==  'A', 'App'] = 'Apple'\n"
   ]
  },
  {
   "cell_type": "code",
   "execution_count": null,
   "metadata": {},
   "outputs": [],
   "source": [
    "#It changes only the values of that specific column ('Fruits') for the value 'Apple'\n",
    "data.loc[data['Fruits'].isin( ['A', 'App']), 'Fruits'] = \"Apple\""
   ]
  },
  {
   "cell_type": "code",
   "execution_count": null,
   "metadata": {},
   "outputs": [],
   "source": [
    "#It locates specifics itens inside a range the documment or in a column.\n",
    "data.loc[(data['Number'] <  0 )  | ( data['Number'] >  120) ]"
   ]
  },
  {
   "cell_type": "code",
   "execution_count": null,
   "metadata": {},
   "outputs": [],
   "source": [
    "#Get duplicated values of a column.\n",
    "data[data.duplicated(['Id'],keep=False)]"
   ]
  },
  {
   "cell_type": "code",
   "execution_count": null,
   "metadata": {},
   "outputs": [],
   "source": [
    "#Delete duplicates\n",
    "data.drop_duplicates(subset=\"Id\", keep='first',inplace=True)"
   ]
  },
  {
   "cell_type": "code",
   "execution_count": null,
   "metadata": {},
   "outputs": [],
   "source": [
    "#Return the square root of the column.\n",
    "desv = sts.stdev(data['Number'])\n",
    "desv"
   ]
  }
 ],
 "metadata": {
  "language_info": {
   "name": "python"
  },
  "orig_nbformat": 4
 },
 "nbformat": 4,
 "nbformat_minor": 2
}
